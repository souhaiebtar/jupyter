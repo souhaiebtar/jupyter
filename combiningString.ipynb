{
 "cells": [
  {
   "cell_type": "code",
   "execution_count": 1,
   "id": "014bf1be-acca-4099-9a53-114732251eae",
   "metadata": {
    "scrolled": true
   },
   "outputs": [
    {
     "name": "stdout",
     "output_type": "stream",
     "text": [
      "Mary had a little lamb.\n",
      "Its fleece was white as snow.\n",
      "And everywhere that Mary went.\n",
      "..........\n",
      "Cheese Burger\n"
     ]
    }
   ],
   "source": [
    "print(\"Mary had a little lamb.\")\n",
    "print(\"Its fleece was white as {}.\".format('snow'))\n",
    "print(\"And everywhere that Mary went.\")\n",
    "print(\".\" * 10)  # what'd that do?\n",
    "\n",
    "end1 = \"C\"\n",
    "end2 = \"h\"\n",
    "end3 = \"e\"\n",
    "end4 = \"e\"\n",
    "end5 = \"s\"\n",
    "end6 = \"e\"\n",
    "end7 = \"B\"\n",
    "end8 = \"u\"\n",
    "end9 = \"r\"\n",
    "end10 = \"g\"\n",
    "end11 = \"e\"\n",
    "end12 = \"r\"\n",
    "\n",
    "# watch end = ' ' at the end.  try removing it to see what happens\n",
    "print(end1 + end2 + end3 + end4 + end5 + end6, end=' ')\n",
    "print(end7 + end8 + end9 + end10 + end11 + end12)"
   ]
  },
  {
   "cell_type": "code",
   "execution_count": null,
   "id": "d582fc6f-8c77-45c1-b64f-34c1074bc5ea",
   "metadata": {},
   "outputs": [],
   "source": []
  }
 ],
 "metadata": {
  "kernelspec": {
   "display_name": "Python 3 (ipykernel)",
   "language": "python",
   "name": "python3"
  },
  "language_info": {
   "codemirror_mode": {
    "name": "ipython",
    "version": 3
   },
   "file_extension": ".py",
   "mimetype": "text/x-python",
   "name": "python",
   "nbconvert_exporter": "python",
   "pygments_lexer": "ipython3",
   "version": "3.12.4"
  }
 },
 "nbformat": 4,
 "nbformat_minor": 5
}
