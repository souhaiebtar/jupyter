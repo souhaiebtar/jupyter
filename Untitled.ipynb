{
 "cells": [
  {
   "cell_type": "code",
   "execution_count": 13,
   "id": "2fd3d936-e72e-4b0a-97ac-c82ba67b96b6",
   "metadata": {
    "editable": true,
    "slideshow": {
     "slide_type": ""
    },
    "tags": []
   },
   "outputs": [
    {
     "name": "stdout",
     "output_type": "stream",
     "text": [
      "Hello World!\n",
      "Hello Again\n",
      "I like typing this.\n",
      "Asalam Bro\n",
      "test # 123\n"
     ]
    },
    {
     "data": {
      "text/plain": [
       "5"
      ]
     },
     "execution_count": 13,
     "metadata": {},
     "output_type": "execute_result"
    }
   ],
   "source": [
    "print(\"Hello World!\")\n",
    "print(\"Hello Again\")\n",
    "print(\"I like typing this.\")\n",
    "#print(\"This is fun.\")\n",
    "#print('Yay! Printing.')\n",
    "#print(\"I'd much rather you 'not'.\")\n",
    "#print('I \"said\" do not touch this.')\n",
    "print(\"Asalam Bro\")\n",
    "4+4\n",
    "print (\"test # 123\") # test # octothorpe inside string\n",
    "1+2\n",
    "3==3\n",
    "4+3\n",
    "3+2"
   ]
  },
  {
   "cell_type": "code",
   "execution_count": null,
   "id": "1a0c2784-11ff-4bb9-9ed9-086c4ea2e1a0",
   "metadata": {},
   "outputs": [],
   "source": [
    "#### "
   ]
  }
 ],
 "metadata": {
  "kernelspec": {
   "display_name": "Python 3 (ipykernel)",
   "language": "python",
   "name": "python3"
  },
  "language_info": {
   "codemirror_mode": {
    "name": "ipython",
    "version": 3
   },
   "file_extension": ".py",
   "mimetype": "text/x-python",
   "name": "python",
   "nbconvert_exporter": "python",
   "pygments_lexer": "ipython3",
   "version": "3.12.4"
  }
 },
 "nbformat": 4,
 "nbformat_minor": 5
}
